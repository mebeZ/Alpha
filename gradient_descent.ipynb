{
  "nbformat": 4,
  "nbformat_minor": 0,
  "metadata": {
    "colab": {
      "name": "gradient-descent.ipynb",
      "provenance": [],
      "authorship_tag": "ABX9TyMk3gJLWomsIWKmwXT+4Ebo",
      "include_colab_link": true
    },
    "kernelspec": {
      "name": "python3",
      "display_name": "Python 3"
    },
    "language_info": {
      "name": "python"
    }
  },
  "cells": [
    {
      "cell_type": "markdown",
      "metadata": {
        "id": "view-in-github",
        "colab_type": "text"
      },
      "source": [
        "<a href=\"https://colab.research.google.com/github/mebeZ/Alpha/blob/master/gradient_descent.ipynb\" target=\"_parent\"><img src=\"https://colab.research.google.com/assets/colab-badge.svg\" alt=\"Open In Colab\"/></a>"
      ]
    },
    {
      "cell_type": "code",
      "execution_count": 211,
      "metadata": {
        "id": "_uFbsLRK4O28"
      },
      "outputs": [],
      "source": [
        "import numpy as np\n",
        "import matplotlib.pyplot as plt"
      ]
    },
    {
      "cell_type": "code",
      "source": [
        "X = np.arange(100)\n",
        "n = len(X)\n",
        "noise = np.random.normal(loc=0, scale=10, size=100)\n",
        "m = 1/2\n",
        "b = 50\n",
        "y = m*X + b + noise\n",
        "y[y>100] = 100"
      ],
      "metadata": {
        "id": "ak3Lv_fZ4aaE"
      },
      "execution_count": 212,
      "outputs": []
    },
    {
      "cell_type": "code",
      "source": [
        "plt.plot(X, y)"
      ],
      "metadata": {
        "colab": {
          "base_uri": "https://localhost:8080/",
          "height": 282
        },
        "id": "TdhKtr6O51ZS",
        "outputId": "ce9d8f52-ab9d-4fe2-e86f-8414746e9ce7"
      },
      "execution_count": 213,
      "outputs": [
        {
          "output_type": "execute_result",
          "data": {
            "text/plain": [
              "[<matplotlib.lines.Line2D at 0x7fe0e59feed0>]"
            ]
          },
          "metadata": {},
          "execution_count": 213
        },
        {
          "output_type": "display_data",
          "data": {
            "image/png": "[encoded data removed]",
            "text/plain": [
              "<Figure size 432x288 with 1 Axes>"
            ]
          },
          "metadata": {
            "needs_background": "light"
          }
        }
      ]
    },
    {
      "cell_type": "code",
      "source": [
        "class LinearRegression:\n",
        "  def __init__(self):\n",
        "    self.params = np.array([0, 0])\n",
        "\n",
        "  # Gradient descent\n",
        "  def fit(self, X_train, y_train, n_steps=200, alpha=0.0002, beta=0.08): \n",
        "    losses = np.array([])\n",
        "    for i in range(n_steps):\n",
        "      # compute new line\n",
        "      y_pred = self.params[0] * X_train + self.params[1]\n",
        "      #print(f'y_pred {y_pred[:5]}')\n",
        "      # compute loss\n",
        "      loss = (1/n) * np.sum((y_train - y_pred) ** 2)\n",
        "      #print(f'loss {loss}')\n",
        "      #print(loss)\n",
        "      losses = np.append(losses, loss)\n",
        "\n",
        "      # compute gradient\n",
        "      delta_m = (2/n) * np.sum(X_train * (y_train - y_pred)) * alpha\n",
        "      delta_b = (2/n) * np.sum(y_train - y_pred) * beta\n",
        "      grad = np.array([delta_m, delta_b]) \n",
        "      #print(f\"+m: {grad[0]} +b {grad[1]}\")\n",
        "      # update params\n",
        "      self.params = self.params + grad\n",
        "      #print(f'm={params[0]} b={params[1]}')\n",
        "\n",
        "    return params, losses\n",
        "\n",
        "  # predict test labels based on unseen features\n",
        "  def predict(self, X_test):\n",
        "    y_pred = self.params[0] * X_test + self.params[1]\n",
        "    return y_pred\n",
        "\n",
        "  def compute_loss(self, X_test, y_test):\n",
        "    return np.sum((y_test - X_test) ** 2)\n",
        "\n",
        "  # split the data into training and testing datasets\n",
        "  @staticmethod\n",
        "  def train_test_split(X, y, shuffle=True, train_size=0.8, test_size=0.2):\n",
        "    if (shuffle):\n",
        "      np.random.shuffle(X)\n",
        "      y = y[X]\n",
        "    train_index = round(len(X)*train_size)\n",
        "    print(train_index)\n",
        "    X_train, y_train = X[:train_index], y[:train_index]\n",
        "    X_test, y_test = X[train_index:], y[train_index:]\n",
        "    return X_train, X_test, y_train, y_test"
      ],
      "metadata": {
        "id": "MySZ4LcbQ9Ci"
      },
      "execution_count": 214,
      "outputs": []
    },
    {
      "cell_type": "code",
      "source": [
        "X_train, X_test, y_train, y_test = LinearRegression.train_test_split(X, y)\n",
        "print(y_test)"
      ],
      "metadata": {
        "colab": {
          "base_uri": "https://localhost:8080/"
        },
        "id": "aLmvc3I1TD3-",
        "outputId": "4fd60ba3-9a68-4900-a8ed-6aee2aa7e2f4"
      },
      "execution_count": 215,
      "outputs": [
        {
          "output_type": "stream",
          "name": "stdout",
          "text": [
            "80\n",
            "[ 75.7759924   55.79709332  44.00114194  83.10901801  91.3121779\n",
            "  99.20506687  72.11842719 100.          74.57564215  84.76944168\n",
            "  86.32870572  85.85370877  72.54809629  91.70986746  92.88757397\n",
            "  82.80049913  64.01509569  83.35322755  61.20553072  62.74918719]\n"
          ]
        }
      ]
    },
    {
      "cell_type": "code",
      "source": [
        "model = LinearRegression()\n",
        "\n",
        "params, losses = model.fit(X_train, y_train)\n",
        "#print(losses)\n",
        "\n",
        "plt.plot(np.arange(len(losses)), losses)\n",
        "plt.show()"
      ],
      "metadata": {
        "colab": {
          "base_uri": "https://localhost:8080/",
          "height": 265
        },
        "id": "xsmyfCHx-AMK",
        "outputId": "2eb1c250-2d35-4db0-a4de-b42d98ec366e"
      },
      "execution_count": 216,
      "outputs": [
        {
          "output_type": "display_data",
          "data": {
            "image/png": "[encoded data removed]",
            "text/plain": [
              "<Figure size 432x288 with 1 Axes>"
            ]
          },
          "metadata": {
            "needs_background": "light"
          }
        }
      ]
    },
    {
      "cell_type": "code",
      "source": [
        "y_pred = model.predict(X_test)\n",
        "plt.scatter(X_test, y_test)\n",
        "plt.plot(X_test, y_pred)\n",
        "plt.show()   "
      ],
      "metadata": {
        "colab": {
          "base_uri": "https://localhost:8080/",
          "height": 265
        },
        "id": "b3DRfRXhLXSE",
        "outputId": "3dbe5c73-45c3-4007-bd38-39353d67c56a"
      },
      "execution_count": 217,
      "outputs": [
        {
          "output_type": "display_data",
          "data": {
            "image/png": "[encoded data removed]",
            "text/plain": [
              "<Figure size 432x288 with 1 Axes>"
            ]
          },
          "metadata": {
            "needs_background": "light"
          }
        }
      ]
    },
    {
      "cell_type": "code",
      "source": [
        "loss = model.compute_loss(X_test, y_pred)\n",
        "print(loss)"
      ],
      "metadata": {
        "colab": {
          "base_uri": "https://localhost:8080/"
        },
        "id": "syYPs4d_VCRx",
        "outputId": "d981f98f-7ce4-4706-af79-bc6288daeb63"
      },
      "execution_count": 218,
      "outputs": [
        {
          "output_type": "stream",
          "name": "stdout",
          "text": [
            "16569.489004776948\n"
          ]
        }
      ]
    }
  ]
}